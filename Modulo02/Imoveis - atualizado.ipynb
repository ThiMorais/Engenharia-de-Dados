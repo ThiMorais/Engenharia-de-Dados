{
 "cells": [
  {
   "cell_type": "code",
   "execution_count": 2,
   "id": "3d49c813",
   "metadata": {},
   "outputs": [],
   "source": [
    "import os\n",
    "from typing import AsyncIterable\n",
    "import requests\n",
    "from bs4 import BeautifulSoup as bs\n",
    "import pandas as pd\n",
    "import json\n",
    "import time"
   ]
  },
  {
   "cell_type": "code",
   "execution_count": 5,
   "id": "7c4585a9",
   "metadata": {},
   "outputs": [
    {
     "ename": "SyntaxError",
     "evalue": "invalid syntax (3331181072.py, line 1)",
     "output_type": "error",
     "traceback": [
      "\u001b[1;36m  Input \u001b[1;32mIn [5]\u001b[1;36m\u001b[0m\n\u001b[1;33m    dir os\u001b[0m\n\u001b[1;37m        ^\u001b[0m\n\u001b[1;31mSyntaxError\u001b[0m\u001b[1;31m:\u001b[0m invalid syntax\n"
     ]
    }
   ],
   "source": [
    "url = ''"
   ]
  },
  {
   "cell_type": "code",
   "execution_count": 7,
   "id": "13791055",
   "metadata": {},
   "outputs": [],
   "source": [
    "headerslist = {\n",
    "    \"Accept\": \"*/*\",\n",
    "    \"User-Agent\": \"Thunder Client (https://www.thunderclient.io)\",\n",
    "    \"x-domain\": \"www.vivareal.com.br\"\n",
    "}\n",
    "\n",
    "payload = \"\""
   ]
  },
  {
   "cell_type": "code",
   "execution_count": 9,
   "id": "10b7ba65",
   "metadata": {},
   "outputs": [],
   "source": [
    "def get_json(url, i, headersList, payload):\n",
    "    ret = requests.request(\"GET\", url.format(i), data=payload, headers=headerslist)\n",
    "    soup = bs(ret.text, 'html.parser')\n",
    "    return json.loads(soup.text)"
   ]
  },
  {
   "cell_type": "code",
   "execution_count": 10,
   "id": "95ee8157",
   "metadata": {},
   "outputs": [],
   "source": [
    "df = pd.DataFrame(\n",
    "    columns =['descricao', \n",
    "              'endereco', \n",
    "              'area', \n",
    "              'quartos', \n",
    "              'wc', \n",
    "              'vagas', \n",
    "              'valor', \n",
    "              'condominio', \n",
    "              'wlink']\n",
    ")"
   ]
  },
  {
   "cell_type": "code",
   "execution_count": null,
   "id": "5401927e",
   "metadata": {},
   "outputs": [],
   "source": [
    "imovel_id = 0\n",
    "json_data = get_json(url, imovel_id, headersList, payload)\n",
    "\n",
    "while len(json_data['search']['result']['listings']) > 0:\n",
    "    \n",
    "    qtd = len(json_data['search']['result']['listings'])\n",
    "    print(f\"Quantidade de Imóveis: {qtd} | total{imovel_id} \")\n",
    "    \n",
    "    \n",
    "    for house in houses:\n",
    "        try:\n",
    "            descricao = json_data['search']['result']['listings'][i]['listings']['title']\n",
    "        except: \n",
    "            descricao = '-'\n",
    "        \n",
    "        try:\n",
    "            try:\n",
    "                endereco = json_data['search']['result']['listings'][i]['listings']['address']['street'] + ', '+ json_data['search']['result']['listings'][i]['listings']['address']['streetNumber']\n",
    "            except: \n",
    "                endereco = json_data['search']['result']['listings'][i]['listings']['address']['street']\n",
    "        except: \n",
    "            endereco = '-'\n",
    "        \n",
    "        try:\n",
    "            area = json_data['search']['result']['listings'][i]['listings']['totalAreas']\n",
    "        except:\n",
    "            area = '-'\n",
    "        \n",
    "        try:\n",
    "            quartos = json_data['search']['result']['listings'][i]['listings']['bedrooms']\n",
    "        except:\n",
    "            quartos = '-'\n",
    "        \n",
    "        try:\n",
    "            suites = json_data['search']['result']['listings'][i]['listings']['suites']\n",
    "        except:\n",
    "            suites = '-'\n",
    "        \n",
    "        try:\n",
    "            wc = json_data['search']['result']['listings'][i]['listings']['bathrooms']\n",
    "        except: \n",
    "            wc = '-'\n",
    "        \n",
    "        try:\n",
    "            valor = json_data['search']['result']['listings'][i]['listings']['price']\n",
    "        except: \n",
    "            valor = '-'\n",
    "                      \n",
    "        try:\n",
    "            vagas = json_data['search']['result']['listings'][i]['listings']['parkingSpaces']\n",
    "        except:\n",
    "            vagas = '-'\n",
    "                        \n",
    "        try:\n",
    "            condominio = json_data['search']['result']['listings'][i]['listings']['pricingInfos'][0]['monthlyCondoFee']\n",
    "        except:\n",
    "            condominio = '-'\n",
    "        \n",
    "        try:\n",
    "            wlink = 'https://www.vivareal.com.br/' + json_data['search']['result']['listings'][i]['link']['href']\n",
    "        except:\n",
    "            wlink = '-'\n",
    "\n",
    "        df.loc[df.shape[0]] = [descricao, \n",
    "                               endereco, \n",
    "                               area, \n",
    "                               quartos, \n",
    "                               wc, \n",
    "                               vagas, \n",
    "                               valor, \n",
    "                               condominio, \n",
    "                               wlink\n",
    "                              ]\n",
    "    \n",
    "    imovel_id = imovel_id + qtd\n",
    "    if imovel_id > 10000:\n",
    "        break\n",
    "    time.sleep(1)\n",
    "    json_data = get_json(url, imovel_id, headerslist, payload)\n"
   ]
  },
  {
   "cell_type": "code",
   "execution_count": null,
   "id": "7c844897",
   "metadata": {},
   "outputs": [],
   "source": [
    "df.to_csv('banco_de_imoveis.csv', sep=';', index=False)"
   ]
  }
 ],
 "metadata": {
  "kernelspec": {
   "display_name": "Python 3 (ipykernel)",
   "language": "python",
   "name": "python3"
  },
  "language_info": {
   "codemirror_mode": {
    "name": "ipython",
    "version": 3
   },
   "file_extension": ".py",
   "mimetype": "text/x-python",
   "name": "python",
   "nbconvert_exporter": "python",
   "pygments_lexer": "ipython3",
   "version": "3.9.12"
  }
 },
 "nbformat": 4,
 "nbformat_minor": 5
}
