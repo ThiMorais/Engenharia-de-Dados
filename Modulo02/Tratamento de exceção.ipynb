{
 "cells": [
  {
   "cell_type": "code",
   "execution_count": 19,
   "id": "65ecfb05",
   "metadata": {},
   "outputs": [],
   "source": [
    "import requests\n",
    "import json\n",
    "import backoff\n",
    "import random\n",
    "import logging"
   ]
  },
  {
   "cell_type": "code",
   "execution_count": 2,
   "id": "03e50056",
   "metadata": {},
   "outputs": [],
   "source": [
    "url = 'https://economia.awesomeapi.com.br/json/last/USD-BRL'\n",
    "ret = requests.get(url)"
   ]
  },
  {
   "cell_type": "code",
   "execution_count": 3,
   "id": "3c2dd0dc",
   "metadata": {},
   "outputs": [
    {
     "name": "stdout",
     "output_type": "stream",
     "text": [
      "<Response [200]>\n"
     ]
    }
   ],
   "source": [
    "if ret:\n",
    "    print(ret)\n",
    "else:\n",
    "    print('Falhou')"
   ]
  },
  {
   "cell_type": "code",
   "execution_count": 4,
   "id": "21b66d44",
   "metadata": {},
   "outputs": [],
   "source": [
    "dolar = json.loads(ret.text)['USDBRL']"
   ]
  },
  {
   "cell_type": "code",
   "execution_count": 5,
   "id": "a6af6607",
   "metadata": {},
   "outputs": [
    {
     "data": {
      "text/plain": [
       "{'code': 'USD',\n",
       " 'codein': 'BRL',\n",
       " 'name': 'Dólar Americano/Real Brasileiro',\n",
       " 'high': '5.1389',\n",
       " 'low': '5.0933',\n",
       " 'varBid': '0.0238',\n",
       " 'pctChange': '0.46',\n",
       " 'bid': '5.1342',\n",
       " 'ask': '5.1367',\n",
       " 'timestamp': '1660055251',\n",
       " 'create_date': '2022-08-09 11:27:31'}"
      ]
     },
     "execution_count": 5,
     "metadata": {},
     "output_type": "execute_result"
    }
   ],
   "source": [
    "dolar"
   ]
  },
  {
   "cell_type": "code",
   "execution_count": 6,
   "id": "ba052284",
   "metadata": {},
   "outputs": [
    {
     "name": "stdout",
     "output_type": "stream",
     "text": [
      "20 dólares hoje custam 102.684 reais\n"
     ]
    }
   ],
   "source": [
    "print(f\"20 dólares hoje custam {float(dolar['bid']) * 20} reais\")"
   ]
  },
  {
   "cell_type": "code",
   "execution_count": 7,
   "id": "4a1d809d",
   "metadata": {},
   "outputs": [],
   "source": [
    "def cotacao(valor, moeda):\n",
    "    url = f'https://economia.awesomeapi.com.br/json/last/{moeda}'\n",
    "    # url = 'https://economia.awesomeapi.com.br/json/last/{}'.format(moeda)\n",
    "    ret = requests.get(url)\n",
    "    dolar = json.loads(ret.text)[moeda.replace('-', '')]\n",
    "    print(f\"{valor} {moeda[:3]} hoje custam {float(dolar['bid']) * valor} {moeda[-3:]}\")\n",
    "    "
   ]
  },
  {
   "cell_type": "code",
   "execution_count": 8,
   "id": "8012a27c",
   "metadata": {},
   "outputs": [
    {
     "name": "stdout",
     "output_type": "stream",
     "text": [
      "20 USD hoje custam 102.684 BRL\n"
     ]
    }
   ],
   "source": [
    "cotacao(20, 'USD-BRL')"
   ]
  },
  {
   "cell_type": "code",
   "execution_count": 9,
   "id": "51dafc56",
   "metadata": {},
   "outputs": [
    {
     "name": "stdout",
     "output_type": "stream",
     "text": [
      "20 JPY hoje custam 0.7606 BRL\n"
     ]
    }
   ],
   "source": [
    "cotacao(20, 'JPY-BRL')"
   ]
  },
  {
   "cell_type": "code",
   "execution_count": 10,
   "id": "d02c35cd",
   "metadata": {},
   "outputs": [
    {
     "name": "stdout",
     "output_type": "stream",
     "text": [
      "name 'Thiago' is not defined\n"
     ]
    }
   ],
   "source": [
    "try:\n",
    "    cotacao(20, Thiago)\n",
    "except Exception as e:\n",
    "    print(e)\n",
    "else:\n",
    "    print('ok')"
   ]
  },
  {
   "cell_type": "code",
   "execution_count": 11,
   "id": "c4b36dbd",
   "metadata": {},
   "outputs": [],
   "source": [
    "lst_money = [\n",
    "        \"USD-BRL\",\n",
    "        \"EUR-BRL\",\n",
    "        \"BTC-BRL\",\n",
    "        \"JPY-BRL\",\n",
    "        \"RPL-BRL\"\n",
    "    ]"
   ]
  },
  {
   "cell_type": "code",
   "execution_count": 12,
   "id": "c591890a",
   "metadata": {},
   "outputs": [],
   "source": [
    "def error_check(func):\n",
    "    def inner_func(*args, **kargs):\n",
    "        try:\n",
    "            func(*args, **kargs)\n",
    "        except:\n",
    "            print(f\"{func.__name__} falhou\")\n",
    "    return inner_func"
   ]
  },
  {
   "cell_type": "code",
   "execution_count": 13,
   "id": "e5b3473b",
   "metadata": {},
   "outputs": [],
   "source": [
    "@error_check\n",
    "def multi_moeda(valor, moeda):\n",
    "    url = f'https://economia.awesomeapi.com.br/json/last/{moeda}'\n",
    "    ret = requests.get(url)\n",
    "    dolar = json.loads(ret.text)[moeda.replace('-', '')]\n",
    "    print(f\"{valor} {moeda[:3]} hoje custam {float(dolar['bid']) * valor} {moeda[-3:]}\")\n",
    "    "
   ]
  },
  {
   "cell_type": "code",
   "execution_count": 15,
   "id": "a254523c",
   "metadata": {},
   "outputs": [
    {
     "name": "stdout",
     "output_type": "stream",
     "text": [
      "20 USD hoje custam 102.684 BRL\n",
      "20 EUR hoje custam 105.062 BRL\n",
      "20 BTC hoje custam 2371.38 BRL\n",
      "multi_moeda falhou\n",
      "20 JPY hoje custam 0.7606 BRL\n"
     ]
    }
   ],
   "source": [
    "multi_moeda(20,  \"USD-BRL\")\n",
    "multi_moeda(20,  \"EUR-BRL\")\n",
    "multi_moeda(20,  \"BTC-BRL\")\n",
    "multi_moeda(20,  \"RPL-BRL\")\n",
    "multi_moeda(20,  \"JPY-BRL\")\n"
   ]
  },
  {
   "cell_type": "code",
   "execution_count": 20,
   "id": "8dcf4893",
   "metadata": {},
   "outputs": [],
   "source": [
    "@backoff.on_exception(backoff.expo, (ConnectionAbortedError, ConnectionRefusedError, TimeoutError), max_tries=10)\n",
    "def test_func(*args, **kargs):\n",
    "    rnd = random.random()\n",
    "    print(f\"\"\"\n",
    "            RND: {rnd}\n",
    "            args: {args if args else 'sem args'}\n",
    "            kargs: {kargs if kargs else 'sem kargs'}\n",
    "        \"\"\")\n",
    "    if rnd < .2:\n",
    "        raise ConnectionAbortedError('Conexão foi finalizada')\n",
    "    elif rnd < .4:\n",
    "        raise ConnectionRefusedError('Conexão foi recusada')\n",
    "    elif rnd < .6:\n",
    "        raise TimeoutError('Tempo de espera excedido')\n",
    "    else:\n",
    "        return \"OK!\""
   ]
  },
  {
   "cell_type": "code",
   "execution_count": 21,
   "id": "b89cd340",
   "metadata": {},
   "outputs": [
    {
     "name": "stdout",
     "output_type": "stream",
     "text": [
      "\n",
      "            RND: 0.8768112395999444\n",
      "            args: sem args\n",
      "            kargs: sem kargs\n",
      "        \n"
     ]
    },
    {
     "data": {
      "text/plain": [
       "'OK!'"
      ]
     },
     "execution_count": 21,
     "metadata": {},
     "output_type": "execute_result"
    }
   ],
   "source": [
    "test_func()"
   ]
  },
  {
   "cell_type": "code",
   "execution_count": 24,
   "id": "e7ce1616",
   "metadata": {},
   "outputs": [
    {
     "name": "stdout",
     "output_type": "stream",
     "text": [
      "\n",
      "            RND: 0.321600552529148\n",
      "            args: (42, 51)\n",
      "            kargs: {'nome': 'Thiago'}\n",
      "        \n",
      "\n",
      "            RND: 0.8442765338546993\n",
      "            args: (42, 51)\n",
      "            kargs: {'nome': 'Thiago'}\n",
      "        \n"
     ]
    },
    {
     "data": {
      "text/plain": [
       "'OK!'"
      ]
     },
     "execution_count": 24,
     "metadata": {},
     "output_type": "execute_result"
    }
   ],
   "source": [
    "test_func(42, 51, nome='Thiago')"
   ]
  },
  {
   "cell_type": "code",
   "execution_count": 27,
   "id": "1739de92",
   "metadata": {},
   "outputs": [],
   "source": [
    "log = logging.getLogger()\n",
    "log.setLevel(logging.DEBUG)\n",
    "formatter = logging.Formatter(\n",
    "    '%(asctime)s - %(name)s - %(levelname)s - %(message)s')\n",
    "ch = logging.StreamHandler()\n",
    "ch.setFormatter(formatter)\n",
    "log.addHandler(ch)"
   ]
  },
  {
   "cell_type": "code",
   "execution_count": 28,
   "id": "47398890",
   "metadata": {},
   "outputs": [],
   "source": [
    "@backoff.on_exception(backoff.expo, (ConnectionAbortedError, ConnectionRefusedError, TimeoutError), max_tries=10)\n",
    "def test_func(*args, **kargs):\n",
    "    rnd = random.random()\n",
    "    log.debug(f\" RND:{rnd}\")\n",
    "    log.info(f\"args: {args if args else 'sem args'}\")\n",
    "    log.info(f\"kargs: {kargs if kargs else 'sem kargs'}\")\n",
    "    if rnd < .2:\n",
    "        log.error('Conexão foi finalizada')\n",
    "        raise ConnectionAbortedError('Conexão foi finalizada')\n",
    "    elif rnd < .4:\n",
    "        log.error('Conexão foi recusada')\n",
    "        raise ConnectionRefusedError('Conexão foi recusada')\n",
    "    elif rnd < .6:\n",
    "        log.error('Tempo de espera excedido')\n",
    "        raise TimeoutError('Tempo de espera excedido')\n",
    "    else:\n",
    "        return \"OK!\""
   ]
  },
  {
   "cell_type": "code",
   "execution_count": 29,
   "id": "3f491920",
   "metadata": {},
   "outputs": [
    {
     "name": "stderr",
     "output_type": "stream",
     "text": [
      "2022-08-09 12:23:11,585 - root - DEBUG -  RND:0.59454127776428\n",
      "2022-08-09 12:23:11,585 - root - INFO - args: sem args\n",
      "2022-08-09 12:23:11,586 - root - INFO - kargs: sem kargs\n",
      "2022-08-09 12:23:11,586 - root - ERROR - Tempo de espera excedido\n",
      "2022-08-09 12:23:11,586 - backoff - INFO - Backing off test_func(...) for 0.6s (TimeoutError: Tempo de espera excedido)\n",
      "2022-08-09 12:23:12,183 - root - DEBUG -  RND:0.9870898355238926\n",
      "2022-08-09 12:23:12,183 - root - INFO - args: sem args\n",
      "2022-08-09 12:23:12,184 - root - INFO - kargs: sem kargs\n"
     ]
    },
    {
     "data": {
      "text/plain": [
       "'OK!'"
      ]
     },
     "execution_count": 29,
     "metadata": {},
     "output_type": "execute_result"
    }
   ],
   "source": [
    "test_func()"
   ]
  },
  {
   "cell_type": "code",
   "execution_count": null,
   "id": "c9e37de7",
   "metadata": {},
   "outputs": [],
   "source": []
  }
 ],
 "metadata": {
  "kernelspec": {
   "display_name": "Python 3 (ipykernel)",
   "language": "python",
   "name": "python3"
  },
  "language_info": {
   "codemirror_mode": {
    "name": "ipython",
    "version": 3
   },
   "file_extension": ".py",
   "mimetype": "text/x-python",
   "name": "python",
   "nbconvert_exporter": "python",
   "pygments_lexer": "ipython3",
   "version": "3.9.12"
  }
 },
 "nbformat": 4,
 "nbformat_minor": 5
}
