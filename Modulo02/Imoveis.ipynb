{
 "cells": [
  {
   "cell_type": "code",
   "execution_count": null,
   "id": "9da8573d",
   "metadata": {},
   "outputs": [],
   "source": [
    "import requests\n",
    "from bs4 import BeautifulSoup as bs\n",
    "import pandas as pd\n",
    "import logging"
   ]
  },
  {
   "cell_type": "code",
   "execution_count": null,
   "id": "2727261a",
   "metadata": {},
   "outputs": [],
   "source": [
    "url = 'https://www.vivareal.com.br/venda/sp/sao-bernardo-do-campo/apartamento_residencial/?paginas={}'"
   ]
  },
  {
   "cell_type": "code",
   "execution_count": null,
   "id": "5feacd73",
   "metadata": {},
   "outputs": [],
   "source": [
    "i = 1\n",
    "ret = requests.get(url.format(i))\n",
    "soup = bs(ret.text)\n"
   ]
  },
  {
   "cell_type": "code",
   "execution_count": null,
   "id": "40a4ea37",
   "metadata": {},
   "outputs": [],
   "source": [
    "houses = soup.find_all(\n",
    "    'a', {'class': 'property-card__content-link js-card-title'})\n",
    "qtd_imoveis = float(soup.find('strong', {'class': 'results-summary__count'}).text.replace('.',''))"
   ]
  },
  {
   "cell_type": "code",
   "execution_count": null,
   "id": "26509ab0",
   "metadata": {},
   "outputs": [],
   "source": [
    "len(houses)"
   ]
  },
  {
   "cell_type": "code",
   "execution_count": null,
   "id": "01aa2b9c",
   "metadata": {},
   "outputs": [],
   "source": [
    "qtd_imoveis"
   ]
  },
  {
   "cell_type": "code",
   "execution_count": null,
   "id": "89523a84",
   "metadata": {},
   "outputs": [],
   "source": [
    "house = houses[0]"
   ]
  },
  {
   "cell_type": "code",
   "execution_count": null,
   "id": "7d896da0",
   "metadata": {},
   "outputs": [],
   "source": [
    "house"
   ]
  },
  {
   "cell_type": "code",
   "execution_count": null,
   "id": "9a2953ac",
   "metadata": {},
   "outputs": [],
   "source": [
    "df = pd.DataFrame(\n",
    "    columns =['descricao', \n",
    "              'endereco', \n",
    "              'area', \n",
    "              'quartos', \n",
    "              'wc', \n",
    "              'vagas', \n",
    "              'valor', \n",
    "              'condominio', \n",
    "              'wlink']\n",
    ")\n",
    "i = 0"
   ]
  },
  {
   "cell_type": "code",
   "execution_count": null,
   "id": "5bd10ae0",
   "metadata": {},
   "outputs": [],
   "source": [
    "\n",
    "while qtd_imoveis > df.shape[0]:\n",
    "    i += 1\n",
    "    print(f\"valor i: {i} \\t\\t qtd_imoveis: {df.shape[0]} \")\n",
    "    ret = requests.get(url.format(i))\n",
    "    soup = bs(ret.text)\n",
    "    houses = soup.find_all(\n",
    "        'a', {'class': 'property-card__content-link js-card-title'})\n",
    "\n",
    "    for house in houses:\n",
    "        try:\n",
    "            descricao = house.find('span', {'class': 'property-card__title'}).text.strip()\n",
    "        except: None\n",
    "        try:\n",
    "            endereco = house.find('span', {'class': 'property-card__address'}).text.strip()\n",
    "        except: None\n",
    "        try:\n",
    "            area = house.find('span', {'class': 'property-card__detail-area'}).text.strip()\n",
    "        except: None\n",
    "        try:\n",
    "            quartos = house.find('li', {'class': 'property-card__detail-room'}).span.text.strip()\n",
    "        except: None\n",
    "        try:\n",
    "            wc = house.find('li', {'class': 'property-card__detail-bathroom'}).span.text.strip()\n",
    "        except: None\n",
    "        try:\n",
    "            vagas = house.find('li', {'class': 'property-card__detail-garage'}).span.text.strip()\n",
    "        except: None\n",
    "        try:\n",
    "            valor = house.find('div', {'class': 'property-card__price'}).p.text.strip()\n",
    "        except: None\n",
    "        try:\n",
    "            condominio = house.find('strong', {'class': 'js-condo-price'}).text.strip()\n",
    "        except: None\n",
    "        try:\n",
    "            wlink = 'https://www.vivareal.com.br/' + house['href']\n",
    "        except:\n",
    "            wlink = None\n",
    "\n",
    "        df.loc[df.shape[0]] = [descricao, \n",
    "                               endereco, \n",
    "                               area, \n",
    "                               quartos, \n",
    "                               wc, \n",
    "                               vagas, \n",
    "                               valor, \n",
    "                               condominio, \n",
    "                               wlink\n",
    "                              ]\n",
    "\n"
   ]
  },
  {
   "cell_type": "code",
   "execution_count": null,
   "id": "948fb4c5",
   "metadata": {},
   "outputs": [],
   "source": [
    "df.to_csv('banco_de_imoveis.csv', sep=';', index=False)"
   ]
  },
  {
   "cell_type": "code",
   "execution_count": null,
   "id": "ee899230",
   "metadata": {},
   "outputs": [],
   "source": []
  }
 ],
 "metadata": {
  "kernelspec": {
   "display_name": "Python 3 (ipykernel)",
   "language": "python",
   "name": "python3"
  },
  "language_info": {
   "codemirror_mode": {
    "name": "ipython",
    "version": 3
   },
   "file_extension": ".py",
   "mimetype": "text/x-python",
   "name": "python",
   "nbconvert_exporter": "python",
   "pygments_lexer": "ipython3",
   "version": "3.9.12"
  }
 },
 "nbformat": 4,
 "nbformat_minor": 5
}
